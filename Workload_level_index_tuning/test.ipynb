{
 "cells": [
  {
   "cell_type": "code",
   "execution_count": 8,
   "metadata": {},
   "outputs": [
    {
     "name": "stdout",
     "output_type": "stream",
     "text": [
      "True\n"
     ]
    }
   ],
   "source": [
    "\n",
    "import pickle\n",
    "import psqlparse\n",
    "from Utility import Encoding as en\n",
    "from Utility import ParserForIndex as pi\n",
    "import os\n",
    "\n",
    "enc = en.encoding_schema()\n",
    "# path to your tpch_directory/dbgen\n",
    "work_dir = \"../tpch-tool/dbgen\"\n",
    "print(os.path.exists(\"../tpch-tool/dbgen/queries/\"))\n"
   ]
  },
  {
   "cell_type": "code",
   "execution_count": null,
   "metadata": {},
   "outputs": [],
   "source": []
  },
  {
   "cell_type": "code",
   "execution_count": 84,
   "metadata": {},
   "outputs": [
    {
     "name": "stdout",
     "output_type": "stream",
     "text": [
      "{'ELECTRON_RUN_AS_NODE': '1', 'USER': 'wangtaiyi', 'MallocNanoZone': '0', '__CFBundleIdentifier': 'com.microsoft.VSCode', 'COMMAND_MODE': 'unix2003', 'DISPLAY': '/private/tmp/com.apple.launchd.OKLcKUUO6X/org.macosforge.xquartz:0', 'LOGNAME': 'wangtaiyi', 'PATH': '/Users/wangtaiyi/opt/anaconda3/bin:/Users/wangtaiyi/opt/anaconda3/condabin:/Users/wangtaiyi/opt/anaconda3/bin:/usr/local/texlive/2019/bin/x86_64-darwin:/Users/wangtaiyi/Library/Python/3.8/bin:/Library/Frameworks/Python.framework/Versions/3.8/bin:/usr/local/bin:/usr/bin:/bin:/usr/sbin:/sbin:/Library/TeX/texbin:/opt/X11/bin:/Library/Apple/usr/bin', 'SSH_AUTH_SOCK': '/private/tmp/com.apple.launchd.9SI7drDMTv/Listeners', 'SHELL': '/bin/zsh', 'HOME': '/Users/wangtaiyi', '__CF_USER_TEXT_ENCODING': '0x1F5:0x0:0x0', 'TMPDIR': '/var/folders/_l/0clwfzj51wlcmzwq9r9g5jfr0000gn/T/', 'XPC_SERVICE_NAME': '0', 'XPC_FLAGS': '0x0', 'ORIGINAL_XDG_CURRENT_DESKTOP': 'undefined', 'VSCODE_CWD': '/', 'VSCODE_NLS_CONFIG': '{\"locale\":\"en-us\",\"availableLanguages\":{},\"_languagePackSupport\":true}', 'VSCODE_CODE_CACHE_PATH': '/Users/wangtaiyi/Library/Application Support/Code/CachedData/d045a5eda657f4d7b676dedbfa7aab8207f8a075', 'VSCODE_IPC_HOOK': '/Users/wangtaiyi/Library/Application Support/Code/1.72.2-main.sock', 'VSCODE_PID': '66853', 'SHLVL': '1', 'PWD': '/', 'OLDPWD': '/', 'PKG_CONFIG_PATH': '/usr/local/lib/pkgconfig:/usr/local/lib/pkgconfig/gtk+-2.0.pc:/opt/X11/lib/pkgconfig', 'ZSH': '/Users/wangtaiyi/.oh-my-zsh', 'PAGER': 'cat', 'LESS': '-R', 'LSCOLORS': 'Gxfxcxdxbxegedabagacad', '_': '/Users/wangtaiyi/opt/anaconda3/bin/python', 'VSCODE_AMD_ENTRYPOINT': 'vs/workbench/api/node/extensionHostProcess', 'VSCODE_HANDLES_UNCAUGHT_ERRORS': 'true', 'APPLICATION_INSIGHTS_NO_DIAGNOSTIC_CHANNEL': '1', 'CONDA_SHLVL': '1', 'CONDA_PROMPT_MODIFIER': '(base) ', 'PYTHONUNBUFFERED': '1', 'PYTHONIOENCODING': 'utf-8', 'CONDA_EXE': '/Users/wangtaiyi/opt/anaconda3/bin/conda', '_CE_CONDA': '', 'CONDA_PREFIX': '/Users/wangtaiyi/opt/anaconda3', '_CE_M': '', 'CONDA_PYTHON_EXE': '/Users/wangtaiyi/opt/anaconda3/bin/python', 'CONDA_DEFAULT_ENV': 'base', 'LC_CTYPE': 'UTF-8', 'PYDEVD_USE_FRAME_EVAL': 'NO', 'TERM': 'xterm-color', 'CLICOLOR': '1', 'GIT_PAGER': 'cat', 'MPLBACKEND': 'module://matplotlib_inline.backend_inline', 'PYDEVD_IPYTHON_COMPATIBLE_DEBUGGING': '1'}\n"
     ]
    }
   ],
   "source": [
    "print(os.environ.copy())"
   ]
  },
  {
   "cell_type": "code",
   "execution_count": 22,
   "metadata": {},
   "outputs": [],
   "source": [
    "import json\n",
    "import os\n",
    "import subprocess\n",
    "\n",
    "\n",
    "class TPCH:\n",
    "    def __init__(self, query_root, number):\n",
    "        self.query_root = os.path.abspath(query_root)\n",
    "        self.dss_query_path = os.path.join(query_root, \"queries\")\n",
    "        self.query_env = os.environ.copy()\n",
    "        self.dbgen_dir = query_root\n",
    "        self.query_env['DSS_QUERY'] = \"/Users/wangtaiyi/Documents/Graduate/Cambridge/Research/RL/Learning_Index_Selection/index_Code/Multi-level_Index/tpch-tool/dbgen/queries\"\n",
    "        # self.query_env['DSS_QUERY'] = \"queries\"\n",
    "        self.number = number\n",
    "\n",
    "    def gen_one_query(self, i):\n",
    "        # p = subprocess.Popen([os.path.join(\".\", \"qgen\"), str(i)], cwd=self.dbgen_dir, env = self.query_env, stdout=subprocess.PIPE)\n",
    "        p = subprocess.Popen([os.path.join(\".\",\"qgen\"), str(i)],  cwd=self.dbgen_dir, env = self.query_env,stdout=subprocess.PIPE)\n",
    "        lines = p.stdout.readlines()\n",
    "        sql = \"\"\n",
    "        for i, line in enumerate(lines):\n",
    "            sql += str(line, encoding=\"utf-8\")\n",
    "        p.communicate()\n",
    "        return sql\n",
    "\n",
    "    def gen_workloads(self):\n",
    "        results = list()\n",
    "        actual = 0\n",
    "        _seq = 0\n",
    "        while actual < self.number:\n",
    "            index = _seq % 22 + 1\n",
    "            # if index == 15 or index == 7 or index == 19:\n",
    "            if index == 15 or index == 7 or index == 19 or index == 2 or index == 11 \\\n",
    "                    or index == 13 or index == 16 or index == 22:\n",
    "                _seq += 1\n",
    "                continue\n",
    "            results.append(self.gen_one_query(index))\n",
    "            actual += 1\n",
    "            _seq += 1\n",
    "        return results\n",
    "\n",
    "    def gen_workloads2(self):\n",
    "        results = list()\n",
    "        query_type = list()\n",
    "        actual = 0\n",
    "        _seq = 0\n",
    "        while actual < self.number:\n",
    "            index = _seq % 22 + 1\n",
    "            if index == 15 or index == 7 or index == 19:\n",
    "                _seq += 1\n",
    "                continue\n",
    "            query_type.append(index)\n",
    "            results.append(self.gen_one_query(index))\n",
    "            actual += 1\n",
    "            _seq += 1\n",
    "        return results, query_type\n"
   ]
  },
  {
   "cell_type": "code",
   "execution_count": 55,
   "metadata": {},
   "outputs": [],
   "source": [
    "w_size = 14\n",
    "wd_generator = TPCH(work_dir, w_size)\n",
    "workload = wd_generator.gen_workloads()\n",
    "\n"
   ]
  },
  {
   "cell_type": "code",
   "execution_count": 57,
   "metadata": {},
   "outputs": [],
   "source": [
    "import numpy as np\n",
    "\n",
    "def preprocess_workload(wd):\n",
    "    \n",
    "    with open(\"wl.txt\",'w') as f:\n",
    "        f.write(wd)\n",
    "    data = \"\"\n",
    "    with open('wl.txt', 'rt') as f:\n",
    "        a = [x for x in f.readlines()]\n",
    "    with open('wl.txt', 'rt') as f:\n",
    "        i = 0\n",
    "        for line in f.readlines():\n",
    "            if 0 < i<len(a)-1:\n",
    "                data = data + line\n",
    "            i+=1\n",
    "\n",
    "    return data\n",
    "\n",
    "for i in range(len(workload)):\n",
    "    workload[i] = preprocess_workload(workload[i])\n",
    "with open('wl.pickle', 'wb') as df:\n",
    "    pickle.dump(workload, df, protocol=0)\n"
   ]
  },
  {
   "cell_type": "code",
   "execution_count": 71,
   "metadata": {},
   "outputs": [],
   "source": [
    "wf = open('data/workload.pickle', 'rb')\n",
    "workload = pickle.load(wf)\n",
    "wf.close()"
   ]
  },
  {
   "cell_type": "code",
   "execution_count": 65,
   "metadata": {},
   "outputs": [],
   "source": [
    "wf1 = open('wl.pickle', 'rb')\n",
    "workload = pickle.load(wf1)\n",
    "wf1.close()"
   ]
  },
  {
   "cell_type": "code",
   "execution_count": 72,
   "metadata": {},
   "outputs": [
    {
     "data": {
      "text/plain": [
       "\"-- using 1588346809 as a seed to the RNG\\n\\r\\n\\r\\nselect\\r\\n\\to_year,\\r\\n\\tsum(case\\r\\n\\t\\twhen nation = 'KENYA' then volume\\r\\n\\t\\telse 0\\r\\n\\tend) / sum(volume) as mkt_share\\r\\nfrom\\r\\n\\t(\\r\\n\\t\\tselect\\r\\n\\t\\t\\textract(year from o_orderdate) as o_year,\\r\\n\\t\\t\\tl_extendedprice * (1 - l_discount) as volume,\\r\\n\\t\\t\\tn2.n_name as nation\\r\\n\\t\\tfrom\\r\\n\\t\\t\\tpart,\\r\\n\\t\\t\\tsupplier,\\r\\n\\t\\t\\tlineitem,\\r\\n\\t\\t\\torders,\\r\\n\\t\\t\\tcustomer,\\r\\n\\t\\t\\tnation n1,\\r\\n\\t\\t\\tnation n2,\\r\\n\\t\\t\\tregion\\r\\n\\t\\twhere\\r\\n\\t\\t\\tp_partkey = l_partkey\\r\\n\\t\\t\\tand s_suppkey = l_suppkey\\r\\n\\t\\t\\tand l_orderkey = o_orderkey\\r\\n\\t\\t\\tand o_custkey = c_custkey\\r\\n\\t\\t\\tand c_nationkey = n1.n_nationkey\\r\\n\\t\\t\\tand n1.n_regionkey = r_regionkey\\r\\n\\t\\t\\tand r_name = 'AFRICA'\\r\\n\\t\\t\\tand s_nationkey = n2.n_nationkey\\r\\n\\t\\t\\tand o_orderdate between date '1995-01-01' and date '1996-12-31'\\r\\n\\t\\t\\tand p_type = 'LARGE BRUSHED COPPER'\\r\\n\\t) as all_nations\\r\\ngroup by\\r\\n\\to_year\\r\\norder by\\r\\n\\to_year;\\r\\n\""
      ]
     },
     "execution_count": 72,
     "metadata": {},
     "output_type": "execute_result"
    }
   ],
   "source": [
    "type(workload)\n",
    "workload[5]"
   ]
  },
  {
   "cell_type": "code",
   "execution_count": 11,
   "metadata": {},
   "outputs": [
    {
     "name": "stdout",
     "output_type": "stream",
     "text": [
      "14\n",
      "   select l_returnflag, l_linestatus, sum(l_quantity) as sum_qty, sum(l_extendedprice) as sum_base_price, sum(l_extendedprice * (1 - l_discount)) as sum_disc_price, sum(l_extendedprice * (1 - l_discount) * (1 + l_tax)) as sum_charge, avg(l_quantity) as avg_qty, avg(l_extendedprice) as avg_price, avg(l_discount) as avg_disc, count(*) as count_order from lineitem where l_shipdate <= date '1998-12-01' - interval '70' day (3) group by l_returnflag, l_linestatus order by l_returnflag, l_linestatus;\n"
     ]
    }
   ],
   "source": [
    "import psqlparse\n",
    "print(len(workload))\n",
    "data = \"\"\n",
    "with open('wl.txt', 'rt') as f:\n",
    "    a = [x for x in f.readlines()]\n",
    "with open('wl.txt', 'rt') as f:\n",
    "    i = 0\n",
    "    for line in f.readlines():\n",
    "        if 0 < i<len(a)-1:\n",
    "            data = data + \" \"+ line.strip()\n",
    "        i+=1\n",
    "print(data)"
   ]
  },
  {
   "cell_type": "code",
   "execution_count": 70,
   "metadata": {},
   "outputs": [
    {
     "name": "stdout",
     "output_type": "stream",
     "text": [
      "dict_keys(['customer', 'lineitem', 'nation', 'orders', 'part', 'partsupp', 'region', 'supplier'])\n",
      "set()\n",
      "{'region#r_regionkey,r_name', 'lineitem#l_partkey', 'customer#c_custkey', 'region#r_name', 'region#r_name,r_regionkey', 'customer#c_nationkey', 'part#p_type', 'region#r_regionkey', 'supplier#s_suppkey', 'lineitem#l_suppkey', 'lineitem#l_orderkey', 'part#p_partkey', 'nation#n_nationkey', 'supplier#s_nationkey', 'orders#o_custkey', 'nation#n_regionkey', 'part#p_type,p_partkey', 'orders#o_orderkey', 'part#p_partkey,p_type'}\n",
      "{'region#r_regionkey,r_name', 'lineitem#l_partkey', 'customer#c_custkey', 'region#r_name', 'region#r_name,r_regionkey', 'customer#c_nationkey', 'part#p_type', 'region#r_regionkey', 'supplier#s_suppkey', 'lineitem#l_orderkey,l_shipmode', 'lineitem#l_suppkey', 'lineitem#l_orderkey', 'part#p_partkey', 'nation#n_nationkey', 'lineitem#l_shipmode', 'supplier#s_nationkey', 'orders#o_custkey', 'nation#n_regionkey', 'part#p_type,p_partkey', 'lineitem#l_shipmode,l_orderkey', 'orders#o_orderkey', 'part#p_partkey,p_type'}\n"
     ]
    }
   ],
   "source": [
    "import psqlparse\n",
    "# print(len(workload))\n",
    "from Utility import Encoding as en\n",
    "enc = en.encoding_schema()\n",
    "parser = pi.Parser(enc['attr'])\n",
    "print(parser.db_info.keys())\n",
    "print(parser.index_candidates)\n",
    "b= psqlparse.parse_dict(workload[5])# b= psqlparse.parse(\"select l_returnflag, sum(l_extendedprice * (1 - l_discount) * (1 + l_tax)) as sum_charge from lineitem where l_shipdata < 0 AND l_returnflag > 1 group by l_returnflag, l_linestatus;\")\n",
    "# print(len(b))\n",
    "# print(b[0])\n",
    "# print(parser.db_info[\"alias_attributes\"])\n",
    "parser.parse_stmt(b[0])\n",
    "\n",
    "# print(b[0]['SelectStmt'].keys())\n",
    "# where_clause = b[0]['SelectStmt']['whereClause']\n",
    "# parser.parse_where_clause(where_clause)\n",
    "parser.gain_candidates()\n",
    "# print(parser.table_info[\"orders\"].conditions)\n",
    "added_i = set()\n",
    "added_i.add('lineitem#l_shipmode')\n",
    "added_i.add('lineitem#l_orderkey,l_shipmode')\n",
    "added_i.add('lineitem#l_shipmode,l_orderkey')\n",
    "print(parser.index_candidates)\n",
    "print(parser.index_candidates | added_i)"
   ]
  },
  {
   "cell_type": "code",
   "execution_count": 2,
   "metadata": {},
   "outputs": [
    {
     "data": {
      "text/plain": [
       "dict_keys(['customer', 'lineitem', 'nation', 'orders', 'part', 'partsupp', 'region', 'supplier'])"
      ]
     },
     "execution_count": 2,
     "metadata": {},
     "output_type": "execute_result"
    }
   ],
   "source": [
    "import psqlparse\n",
    "# print(len(workload))\n",
    "from Utility import ParserForIndex as pi\n",
    "from Utility import Encoding as en\n",
    "enc = en.encoding_schema()\n",
    "parser = pi.Parser(enc['attr'])\n",
    "parser.db_info.keys()"
   ]
  },
  {
   "cell_type": "code",
   "execution_count": 119,
   "metadata": {},
   "outputs": [
    {
     "data": {
      "text/plain": [
       "[]"
      ]
     },
     "execution_count": 119,
     "metadata": {},
     "output_type": "execute_result"
    }
   ],
   "source": [
    "import pickle\n",
    "\n",
    "df=open(\"cands2.pickle\",'rb')#注意此处是rb\n",
    "data3=pickle.load(df)\n",
    "df.close()\n",
    "\n",
    "data3"
   ]
  },
  {
   "cell_type": "code",
   "execution_count": 182,
   "metadata": {},
   "outputs": [
    {
     "name": "stdout",
     "output_type": "stream",
     "text": [
      "[]\n"
     ]
    },
    {
     "data": {
      "text/plain": [
       "<connection object at 0x7ff70f4f0ec0; dsn: 'user=wangtaiyi dbname=tpch', closed: 0>"
      ]
     },
     "execution_count": 182,
     "metadata": {},
     "output_type": "execute_result"
    }
   ],
   "source": [
    "import Utility.PostgreSQL as pg\n",
    "\n",
    "\n",
    "pg_client = pg.PGHypo()\n",
    "attributes = pg_client.get_attributes(\"lineitem\", 'public')\n",
    "print(attributes)\n",
    "import psycopg2 as pg2\n",
    "pg2.connect(database=\"tpch\",user=\"wangtaiyi\")"
   ]
  }
 ],
 "metadata": {
  "kernelspec": {
   "display_name": "Python 3.7.12 ('base')",
   "language": "python",
   "name": "python3"
  },
  "language_info": {
   "codemirror_mode": {
    "name": "ipython",
    "version": 3
   },
   "file_extension": ".py",
   "mimetype": "text/x-python",
   "name": "python",
   "nbconvert_exporter": "python",
   "pygments_lexer": "ipython3",
   "version": "3.7.12"
  },
  "orig_nbformat": 4,
  "vscode": {
   "interpreter": {
    "hash": "80c18ea57fee6e44f2aaef3eefda70117a758a9dacb0599dde599ed8bf03809a"
   }
  }
 },
 "nbformat": 4,
 "nbformat_minor": 2
}
